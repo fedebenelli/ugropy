{
 "cells": [
  {
   "cell_type": "markdown",
   "metadata": {},
   "source": [
    "### The Hard? way\n",
    "\n",
    "#### The get_groups function\n",
    "\n",
    "In some situation you may not require to instantiate all the models supported\n",
    "by `ugropy`, for that, you can search the model's groups individually."
   ]
  },
  {
   "cell_type": "code",
   "execution_count": 1,
   "metadata": {},
   "outputs": [
    {
     "name": "stdout",
     "output_type": "stream",
     "text": [
      "{'CH3': 2, 'CH2': 4}\n",
      "{'CH2': 3, 'CH3N': 1, 'C5H4N': 1, 'CH': 1}\n",
      "{'-CH3': 2, '=CH2': 1, '=C<': 1, 'ring-CH2-': 3, 'ring>CH-': 1, 'ring=CH-': 1, 'ring=C<': 1}\n"
     ]
    }
   ],
   "source": [
    "from ugropy import joback, psrk, unifac, get_groups\n",
    "\n",
    "hexane = get_groups(unifac, \"hexane\")\n",
    "nicotine = get_groups(psrk, \"nicotine\")\n",
    "limonene = get_groups(joback, \"limonene\")\n",
    "\n",
    "print(hexane.subgroups)\n",
    "print(nicotine.subgroups)\n",
    "print(limonene.subgroups)"
   ]
  },
  {
   "cell_type": "markdown",
   "metadata": {},
   "source": [
    "Also, you can visualize the fragmentation results as in the \"easy way\" tutorial"
   ]
  },
  {
   "cell_type": "code",
   "execution_count": 2,
   "metadata": {},
   "outputs": [
    {
     "data": {
      "image/svg+xml": [
       "<svg xmlns=\"http://www.w3.org/2000/svg\" xmlns:rdkit=\"http://www.rdkit.org/xml\" xmlns:xlink=\"http://www.w3.org/1999/xlink\" version=\"1.1\" baseProfile=\"full\" xml:space=\"preserve\" width=\"400px\" height=\"200px\" viewBox=\"0 0 400 200\">\n",
       "<!-- END OF HEADER -->\n",
       "<rect style=\"opacity:1.0;fill:#FFFFFF;stroke:none\" width=\"400.0\" height=\"200.0\" x=\"0.0\" y=\"0.0\"> </rect>\n",
       "<ellipse cx=\"35.2\" cy=\"110.6\" rx=\"15.2\" ry=\"15.2\" class=\"atom-0\" style=\"fill:#1F77B4A5;fill-rule:evenodd;stroke:#1F77B4A5;stroke-width:1.0px;stroke-linecap:butt;stroke-linejoin:miter;stroke-opacity:1\"/>\n",
       "<ellipse cx=\"102.6\" cy=\"76.1\" rx=\"15.2\" ry=\"15.2\" class=\"atom-1\" style=\"fill:#FF7F0EA5;fill-rule:evenodd;stroke:#FF7F0EA5;stroke-width:1.0px;stroke-linecap:butt;stroke-linejoin:miter;stroke-opacity:1\"/>\n",
       "<ellipse cx=\"166.3\" cy=\"117.3\" rx=\"15.2\" ry=\"15.2\" class=\"atom-2\" style=\"fill:#FF7F0EA5;fill-rule:evenodd;stroke:#FF7F0EA5;stroke-width:1.0px;stroke-linecap:butt;stroke-linejoin:miter;stroke-opacity:1\"/>\n",
       "<ellipse cx=\"233.7\" cy=\"82.7\" rx=\"15.2\" ry=\"15.2\" class=\"atom-3\" style=\"fill:#FF7F0EA5;fill-rule:evenodd;stroke:#FF7F0EA5;stroke-width:1.0px;stroke-linecap:butt;stroke-linejoin:miter;stroke-opacity:1\"/>\n",
       "<ellipse cx=\"297.4\" cy=\"123.9\" rx=\"15.2\" ry=\"15.2\" class=\"atom-4\" style=\"fill:#FF7F0EA5;fill-rule:evenodd;stroke:#FF7F0EA5;stroke-width:1.0px;stroke-linecap:butt;stroke-linejoin:miter;stroke-opacity:1\"/>\n",
       "<ellipse cx=\"364.8\" cy=\"89.4\" rx=\"15.2\" ry=\"15.2\" class=\"atom-5\" style=\"fill:#1F77B4A5;fill-rule:evenodd;stroke:#1F77B4A5;stroke-width:1.0px;stroke-linecap:butt;stroke-linejoin:miter;stroke-opacity:1\"/>\n",
       "<path class=\"bond-0 atom-0 atom-1\" d=\"M 35.2,110.6 L 102.6,76.1\" style=\"fill:none;fill-rule:evenodd;stroke:#000000;stroke-width:2.0px;stroke-linecap:butt;stroke-linejoin:miter;stroke-opacity:1\"/>\n",
       "<path class=\"bond-1 atom-1 atom-2\" d=\"M 102.6,76.1 L 166.3,117.3\" style=\"fill:none;fill-rule:evenodd;stroke:#000000;stroke-width:2.0px;stroke-linecap:butt;stroke-linejoin:miter;stroke-opacity:1\"/>\n",
       "<path class=\"bond-2 atom-2 atom-3\" d=\"M 166.3,117.3 L 233.7,82.7\" style=\"fill:none;fill-rule:evenodd;stroke:#000000;stroke-width:2.0px;stroke-linecap:butt;stroke-linejoin:miter;stroke-opacity:1\"/>\n",
       "<path class=\"bond-3 atom-3 atom-4\" d=\"M 233.7,82.7 L 297.4,123.9\" style=\"fill:none;fill-rule:evenodd;stroke:#000000;stroke-width:2.0px;stroke-linecap:butt;stroke-linejoin:miter;stroke-opacity:1\"/>\n",
       "<path class=\"bond-4 atom-4 atom-5\" d=\"M 297.4,123.9 L 364.8,89.4\" style=\"fill:none;fill-rule:evenodd;stroke:#000000;stroke-width:2.0px;stroke-linecap:butt;stroke-linejoin:miter;stroke-opacity:1\"/>\n",
       "<path d=\"M 99.3,77.8 L 102.6,76.1 L 105.8,78.1\" style=\"fill:none;stroke:#000000;stroke-width:2.0px;stroke-linecap:butt;stroke-linejoin:miter;stroke-opacity:1;\"/>\n",
       "<path d=\"M 163.1,115.2 L 166.3,117.3 L 169.6,115.5\" style=\"fill:none;stroke:#000000;stroke-width:2.0px;stroke-linecap:butt;stroke-linejoin:miter;stroke-opacity:1;\"/>\n",
       "<path d=\"M 230.4,84.5 L 233.7,82.7 L 236.9,84.8\" style=\"fill:none;stroke:#000000;stroke-width:2.0px;stroke-linecap:butt;stroke-linejoin:miter;stroke-opacity:1;\"/>\n",
       "<path d=\"M 294.2,121.9 L 297.4,123.9 L 300.7,122.2\" style=\"fill:none;stroke:#000000;stroke-width:2.0px;stroke-linecap:butt;stroke-linejoin:miter;stroke-opacity:1;\"/>\n",
       "<rect x=\"1\" y=\"5\" width=\"18.0\" height=\"18.0\" fill=\"rgb(31, 119, 179)\"/><text x=\"19.200000000000003\" y=\"20\" font-family=\"Helvetica\" font-size=\"12\" fill=\"black\">CH3</text><rect x=\"1\" y=\"30\" width=\"18.0\" height=\"18.0\" fill=\"rgb(255, 127, 13)\"/><text x=\"19.200000000000003\" y=\"45\" font-family=\"Helvetica\" font-size=\"12\" fill=\"black\">CH2</text><text x=\"200.0\" y=\"40\" font-family=\"Helvetica\" font-size=\"12\" font-weight=\"bold\" fill=\"black\" text-anchor=\"middle\"/></svg>"
      ],
      "text/plain": [
       "<IPython.core.display.SVG object>"
      ]
     },
     "execution_count": 2,
     "metadata": {},
     "output_type": "execute_result"
    }
   ],
   "source": [
    "from IPython.display import SVG\n",
    "\n",
    "SVG(hexane.draw())"
   ]
  },
  {
   "cell_type": "code",
   "execution_count": 3,
   "metadata": {},
   "outputs": [
    {
     "data": {
      "image/svg+xml": [
       "<svg xmlns=\"http://www.w3.org/2000/svg\" xmlns:rdkit=\"http://www.rdkit.org/xml\" xmlns:xlink=\"http://www.w3.org/1999/xlink\" version=\"1.1\" baseProfile=\"full\" xml:space=\"preserve\" width=\"400px\" height=\"200px\" viewBox=\"0 0 400 200\">\n",
       "<!-- END OF HEADER -->\n",
       "<rect style=\"opacity:1.0;fill:#FFFFFF;stroke:none\" width=\"400.0\" height=\"200.0\" x=\"0.0\" y=\"0.0\"> </rect>\n",
       "<ellipse cx=\"132.2\" cy=\"22.1\" rx=\"12.1\" ry=\"12.1\" class=\"atom-0\" style=\"fill:#FF7F0EA5;fill-rule:evenodd;stroke:#FF7F0EA5;stroke-width:1.0px;stroke-linecap:butt;stroke-linejoin:miter;stroke-opacity:1\"/>\n",
       "<ellipse cx=\"118.1\" cy=\"80.7\" rx=\"12.1\" ry=\"12.1\" class=\"atom-1\" style=\"fill:#FF7F0EA5;fill-rule:evenodd;stroke:#FF7F0EA5;stroke-width:1.0px;stroke-linecap:butt;stroke-linejoin:miter;stroke-opacity:1\"/>\n",
       "<ellipse cx=\"62.4\" cy=\"103.7\" rx=\"12.1\" ry=\"12.1\" class=\"atom-2\" style=\"fill:#1F77B4A5;fill-rule:evenodd;stroke:#1F77B4A5;stroke-width:1.0px;stroke-linecap:butt;stroke-linejoin:miter;stroke-opacity:1\"/>\n",
       "<ellipse cx=\"67.1\" cy=\"163.8\" rx=\"12.1\" ry=\"12.1\" class=\"atom-3\" style=\"fill:#1F77B4A5;fill-rule:evenodd;stroke:#1F77B4A5;stroke-width:1.0px;stroke-linecap:butt;stroke-linejoin:miter;stroke-opacity:1\"/>\n",
       "<ellipse cx=\"125.7\" cy=\"177.9\" rx=\"12.1\" ry=\"12.1\" class=\"atom-4\" style=\"fill:#1F77B4A5;fill-rule:evenodd;stroke:#1F77B4A5;stroke-width:1.0px;stroke-linecap:butt;stroke-linejoin:miter;stroke-opacity:1\"/>\n",
       "<ellipse cx=\"157.3\" cy=\"126.6\" rx=\"12.1\" ry=\"12.1\" class=\"atom-5\" style=\"fill:#D62728A5;fill-rule:evenodd;stroke:#D62728A5;stroke-width:1.0px;stroke-linecap:butt;stroke-linejoin:miter;stroke-opacity:1\"/>\n",
       "<ellipse cx=\"217.4\" cy=\"121.9\" rx=\"12.1\" ry=\"12.1\" class=\"atom-6\" style=\"fill:#2CA02CA5;fill-rule:evenodd;stroke:#2CA02CA5;stroke-width:1.0px;stroke-linecap:butt;stroke-linejoin:miter;stroke-opacity:1\"/>\n",
       "<ellipse cx=\"251.5\" cy=\"171.6\" rx=\"12.1\" ry=\"12.1\" class=\"atom-7\" style=\"fill:#2CA02CA5;fill-rule:evenodd;stroke:#2CA02CA5;stroke-width:1.0px;stroke-linecap:butt;stroke-linejoin:miter;stroke-opacity:1\"/>\n",
       "<ellipse cx=\"311.6\" cy=\"166.9\" rx=\"12.1\" ry=\"12.1\" class=\"atom-8\" style=\"fill:#2CA02CA5;fill-rule:evenodd;stroke:#2CA02CA5;stroke-width:1.0px;stroke-linecap:butt;stroke-linejoin:miter;stroke-opacity:1\"/>\n",
       "<ellipse cx=\"337.6\" cy=\"112.5\" rx=\"12.1\" ry=\"12.1\" class=\"atom-9\" style=\"fill:#2CA02CA5;fill-rule:evenodd;stroke:#2CA02CA5;stroke-width:1.0px;stroke-linecap:butt;stroke-linejoin:miter;stroke-opacity:1\"/>\n",
       "<ellipse cx=\"303.5\" cy=\"62.8\" rx=\"12.1\" ry=\"12.1\" class=\"atom-10\" style=\"fill:#2CA02CA5;fill-rule:evenodd;stroke:#2CA02CA5;stroke-width:1.0px;stroke-linecap:butt;stroke-linejoin:miter;stroke-opacity:1\"/>\n",
       "<ellipse cx=\"243.4\" cy=\"67.5\" rx=\"12.1\" ry=\"12.1\" class=\"atom-11\" style=\"fill:#2CA02CA5;fill-rule:evenodd;stroke:#2CA02CA5;stroke-width:1.0px;stroke-linecap:butt;stroke-linejoin:miter;stroke-opacity:1\"/>\n",
       "<path class=\"bond-0 atom-0 atom-1\" d=\"M 132.2,22.1 L 126.5,46.1\" style=\"fill:none;fill-rule:evenodd;stroke:#000000;stroke-width:2.0px;stroke-linecap:butt;stroke-linejoin:miter;stroke-opacity:1\"/>\n",
       "<path class=\"bond-0 atom-0 atom-1\" d=\"M 126.5,46.1 L 120.7,70.2\" style=\"fill:none;fill-rule:evenodd;stroke:#0000FF;stroke-width:2.0px;stroke-linecap:butt;stroke-linejoin:miter;stroke-opacity:1\"/>\n",
       "<path class=\"bond-1 atom-1 atom-2\" d=\"M 109.7,84.2 L 86.0,93.9\" style=\"fill:none;fill-rule:evenodd;stroke:#0000FF;stroke-width:2.0px;stroke-linecap:butt;stroke-linejoin:miter;stroke-opacity:1\"/>\n",
       "<path class=\"bond-1 atom-1 atom-2\" d=\"M 86.0,93.9 L 62.4,103.7\" style=\"fill:none;fill-rule:evenodd;stroke:#000000;stroke-width:2.0px;stroke-linecap:butt;stroke-linejoin:miter;stroke-opacity:1\"/>\n",
       "<path class=\"bond-2 atom-2 atom-3\" d=\"M 62.4,103.7 L 67.1,163.8\" style=\"fill:none;fill-rule:evenodd;stroke:#000000;stroke-width:2.0px;stroke-linecap:butt;stroke-linejoin:miter;stroke-opacity:1\"/>\n",
       "<path class=\"bond-3 atom-3 atom-4\" d=\"M 67.1,163.8 L 125.7,177.9\" style=\"fill:none;fill-rule:evenodd;stroke:#000000;stroke-width:2.0px;stroke-linecap:butt;stroke-linejoin:miter;stroke-opacity:1\"/>\n",
       "<path class=\"bond-4 atom-4 atom-5\" d=\"M 125.7,177.9 L 157.3,126.6\" style=\"fill:none;fill-rule:evenodd;stroke:#000000;stroke-width:2.0px;stroke-linecap:butt;stroke-linejoin:miter;stroke-opacity:1\"/>\n",
       "<path class=\"bond-5 atom-5 atom-6\" d=\"M 157.3,126.6 L 217.4,121.9\" style=\"fill:none;fill-rule:evenodd;stroke:#000000;stroke-width:2.0px;stroke-linecap:butt;stroke-linejoin:miter;stroke-opacity:1\"/>\n",
       "<path class=\"bond-6 atom-6 atom-7\" d=\"M 217.4,121.9 L 251.5,171.6\" style=\"fill:none;fill-rule:evenodd;stroke:#000000;stroke-width:2.0px;stroke-linecap:butt;stroke-linejoin:miter;stroke-opacity:1\"/>\n",
       "<path class=\"bond-6 atom-6 atom-7\" d=\"M 227.8,121.1 L 256.0,162.2\" style=\"fill:none;fill-rule:evenodd;stroke:#000000;stroke-width:2.0px;stroke-linecap:butt;stroke-linejoin:miter;stroke-opacity:1\"/>\n",
       "<path class=\"bond-7 atom-7 atom-8\" d=\"M 251.5,171.6 L 277.3,169.6\" style=\"fill:none;fill-rule:evenodd;stroke:#000000;stroke-width:2.0px;stroke-linecap:butt;stroke-linejoin:miter;stroke-opacity:1\"/>\n",
       "<path class=\"bond-7 atom-7 atom-8\" d=\"M 277.3,169.6 L 303.1,167.5\" style=\"fill:none;fill-rule:evenodd;stroke:#0000FF;stroke-width:2.0px;stroke-linecap:butt;stroke-linejoin:miter;stroke-opacity:1\"/>\n",
       "<path class=\"bond-8 atom-8 atom-9\" d=\"M 316.6,156.4 L 327.1,134.4\" style=\"fill:none;fill-rule:evenodd;stroke:#0000FF;stroke-width:2.0px;stroke-linecap:butt;stroke-linejoin:miter;stroke-opacity:1\"/>\n",
       "<path class=\"bond-8 atom-8 atom-9\" d=\"M 327.1,134.4 L 337.6,112.5\" style=\"fill:none;fill-rule:evenodd;stroke:#000000;stroke-width:2.0px;stroke-linecap:butt;stroke-linejoin:miter;stroke-opacity:1\"/>\n",
       "<path class=\"bond-8 atom-8 atom-9\" d=\"M 308.5,152.5 L 317.8,132.9\" style=\"fill:none;fill-rule:evenodd;stroke:#0000FF;stroke-width:2.0px;stroke-linecap:butt;stroke-linejoin:miter;stroke-opacity:1\"/>\n",
       "<path class=\"bond-8 atom-8 atom-9\" d=\"M 317.8,132.9 L 327.2,113.3\" style=\"fill:none;fill-rule:evenodd;stroke:#000000;stroke-width:2.0px;stroke-linecap:butt;stroke-linejoin:miter;stroke-opacity:1\"/>\n",
       "<path class=\"bond-9 atom-9 atom-10\" d=\"M 337.6,112.5 L 303.5,62.8\" style=\"fill:none;fill-rule:evenodd;stroke:#000000;stroke-width:2.0px;stroke-linecap:butt;stroke-linejoin:miter;stroke-opacity:1\"/>\n",
       "<path class=\"bond-10 atom-10 atom-11\" d=\"M 303.5,62.8 L 243.4,67.5\" style=\"fill:none;fill-rule:evenodd;stroke:#000000;stroke-width:2.0px;stroke-linecap:butt;stroke-linejoin:miter;stroke-opacity:1\"/>\n",
       "<path class=\"bond-10 atom-10 atom-11\" d=\"M 299.0,72.2 L 249.3,76.1\" style=\"fill:none;fill-rule:evenodd;stroke:#000000;stroke-width:2.0px;stroke-linecap:butt;stroke-linejoin:miter;stroke-opacity:1\"/>\n",
       "<path class=\"bond-11 atom-5 atom-1\" d=\"M 157.3,126.6 L 141.9,108.6\" style=\"fill:none;fill-rule:evenodd;stroke:#000000;stroke-width:2.0px;stroke-linecap:butt;stroke-linejoin:miter;stroke-opacity:1\"/>\n",
       "<path class=\"bond-11 atom-5 atom-1\" d=\"M 141.9,108.6 L 126.6,90.6\" style=\"fill:none;fill-rule:evenodd;stroke:#0000FF;stroke-width:2.0px;stroke-linecap:butt;stroke-linejoin:miter;stroke-opacity:1\"/>\n",
       "<path class=\"bond-12 atom-11 atom-6\" d=\"M 243.4,67.5 L 217.4,121.9\" style=\"fill:none;fill-rule:evenodd;stroke:#000000;stroke-width:2.0px;stroke-linecap:butt;stroke-linejoin:miter;stroke-opacity:1\"/>\n",
       "<path d=\"M 63.6,103.2 L 62.4,103.7 L 62.6,106.7\" style=\"fill:none;stroke:#000000;stroke-width:2.0px;stroke-linecap:butt;stroke-linejoin:miter;stroke-opacity:1;\"/>\n",
       "<path d=\"M 66.9,160.8 L 67.1,163.8 L 70.0,164.5\" style=\"fill:none;stroke:#000000;stroke-width:2.0px;stroke-linecap:butt;stroke-linejoin:miter;stroke-opacity:1;\"/>\n",
       "<path d=\"M 122.8,177.2 L 125.7,177.9 L 127.3,175.4\" style=\"fill:none;stroke:#000000;stroke-width:2.0px;stroke-linecap:butt;stroke-linejoin:miter;stroke-opacity:1;\"/>\n",
       "<path d=\"M 249.8,169.1 L 251.5,171.6 L 252.8,171.5\" style=\"fill:none;stroke:#000000;stroke-width:2.0px;stroke-linecap:butt;stroke-linejoin:miter;stroke-opacity:1;\"/>\n",
       "<path d=\"M 337.1,113.6 L 337.6,112.5 L 335.9,110.0\" style=\"fill:none;stroke:#000000;stroke-width:2.0px;stroke-linecap:butt;stroke-linejoin:miter;stroke-opacity:1;\"/>\n",
       "<path d=\"M 305.2,65.3 L 303.5,62.8 L 300.5,63.0\" style=\"fill:none;stroke:#000000;stroke-width:2.0px;stroke-linecap:butt;stroke-linejoin:miter;stroke-opacity:1;\"/>\n",
       "<path d=\"M 246.4,67.2 L 243.4,67.5 L 242.1,70.2\" style=\"fill:none;stroke:#000000;stroke-width:2.0px;stroke-linecap:butt;stroke-linejoin:miter;stroke-opacity:1;\"/>\n",
       "<path class=\"atom-1\" d=\"M 114.4 72.1 L 120.0 81.2 Q 120.5 82.1, 121.4 83.7 Q 122.3 85.3, 122.3 85.4 L 122.3 72.1 L 124.6 72.1 L 124.6 89.2 L 122.3 89.2 L 116.3 79.3 Q 115.6 78.2, 114.8 76.8 Q 114.1 75.5, 113.9 75.1 L 113.9 89.2 L 111.7 89.2 L 111.7 72.1 L 114.4 72.1 \" fill=\"#0000FF\"/>\n",
       "<path class=\"atom-8\" d=\"M 307.8 158.4 L 313.4 167.4 Q 314.0 168.3, 314.9 169.9 Q 315.8 171.5, 315.8 171.6 L 315.8 158.4 L 318.1 158.4 L 318.1 175.4 L 315.7 175.4 L 309.7 165.5 Q 309.0 164.4, 308.3 163.1 Q 307.6 161.7, 307.3 161.3 L 307.3 175.4 L 305.1 175.4 L 305.1 158.4 L 307.8 158.4 \" fill=\"#0000FF\"/>\n",
       "<rect x=\"1\" y=\"5\" width=\"18.0\" height=\"18.0\" fill=\"rgb(31, 119, 179)\"/><text x=\"19.200000000000003\" y=\"20\" font-family=\"Helvetica\" font-size=\"12\" fill=\"black\">CH2</text><rect x=\"1\" y=\"30\" width=\"18.0\" height=\"18.0\" fill=\"rgb(255, 127, 13)\"/><text x=\"19.200000000000003\" y=\"45\" font-family=\"Helvetica\" font-size=\"12\" fill=\"black\">CH3N</text><rect x=\"1\" y=\"55\" width=\"18.0\" height=\"18.0\" fill=\"rgb(44, 159, 44)\"/><text x=\"19.200000000000003\" y=\"70\" font-family=\"Helvetica\" font-size=\"12\" fill=\"black\">C5H4N</text><rect x=\"1\" y=\"80\" width=\"18.0\" height=\"18.0\" fill=\"rgb(214, 39, 40)\"/><text x=\"19.200000000000003\" y=\"95\" font-family=\"Helvetica\" font-size=\"12\" fill=\"black\">CH</text><text x=\"200.0\" y=\"40\" font-family=\"Helvetica\" font-size=\"12\" font-weight=\"bold\" fill=\"black\" text-anchor=\"middle\"/></svg>"
      ],
      "text/plain": [
       "<IPython.core.display.SVG object>"
      ]
     },
     "execution_count": 3,
     "metadata": {},
     "output_type": "execute_result"
    }
   ],
   "source": [
    "SVG(nicotine.draw())"
   ]
  },
  {
   "cell_type": "code",
   "execution_count": 4,
   "metadata": {},
   "outputs": [
    {
     "data": {
      "image/svg+xml": [
       "<svg xmlns=\"http://www.w3.org/2000/svg\" xmlns:rdkit=\"http://www.rdkit.org/xml\" xmlns:xlink=\"http://www.w3.org/1999/xlink\" version=\"1.1\" baseProfile=\"full\" xml:space=\"preserve\" width=\"600px\" height=\"200px\" viewBox=\"0 0 600 200\">\n",
       "<!-- END OF HEADER -->\n",
       "<rect style=\"opacity:1.0;fill:#FFFFFF;stroke:none\" width=\"600.0\" height=\"200.0\" x=\"0.0\" y=\"0.0\"> </rect>\n",
       "<ellipse cx=\"490.0\" cy=\"100.0\" rx=\"16.9\" ry=\"16.9\" class=\"atom-0\" style=\"fill:#1F77B4A5;fill-rule:evenodd;stroke:#1F77B4A5;stroke-width:1.0px;stroke-linecap:butt;stroke-linejoin:miter;stroke-opacity:1\"/>\n",
       "<ellipse cx=\"405.5\" cy=\"100.0\" rx=\"16.9\" ry=\"16.9\" class=\"atom-1\" style=\"fill:#E377C2A5;fill-rule:evenodd;stroke:#E377C2A5;stroke-width:1.0px;stroke-linecap:butt;stroke-linejoin:miter;stroke-opacity:1\"/>\n",
       "<ellipse cx=\"363.3\" cy=\"173.1\" rx=\"16.9\" ry=\"16.9\" class=\"atom-2\" style=\"fill:#8C564BA5;fill-rule:evenodd;stroke:#8C564BA5;stroke-width:1.0px;stroke-linecap:butt;stroke-linejoin:miter;stroke-opacity:1\"/>\n",
       "<ellipse cx=\"278.9\" cy=\"173.1\" rx=\"16.9\" ry=\"16.9\" class=\"atom-3\" style=\"fill:#D62728A5;fill-rule:evenodd;stroke:#D62728A5;stroke-width:1.0px;stroke-linecap:butt;stroke-linejoin:miter;stroke-opacity:1\"/>\n",
       "<ellipse cx=\"236.7\" cy=\"100.0\" rx=\"16.9\" ry=\"16.9\" class=\"atom-4\" style=\"fill:#9467BDA5;fill-rule:evenodd;stroke:#9467BDA5;stroke-width:1.0px;stroke-linecap:butt;stroke-linejoin:miter;stroke-opacity:1\"/>\n",
       "<ellipse cx=\"278.9\" cy=\"26.9\" rx=\"16.9\" ry=\"16.9\" class=\"atom-5\" style=\"fill:#D62728A5;fill-rule:evenodd;stroke:#D62728A5;stroke-width:1.0px;stroke-linecap:butt;stroke-linejoin:miter;stroke-opacity:1\"/>\n",
       "<ellipse cx=\"363.3\" cy=\"26.9\" rx=\"16.9\" ry=\"16.9\" class=\"atom-6\" style=\"fill:#D62728A5;fill-rule:evenodd;stroke:#D62728A5;stroke-width:1.0px;stroke-linecap:butt;stroke-linejoin:miter;stroke-opacity:1\"/>\n",
       "<ellipse cx=\"152.3\" cy=\"100.0\" rx=\"16.9\" ry=\"16.9\" class=\"atom-7\" style=\"fill:#2CA02CA5;fill-rule:evenodd;stroke:#2CA02CA5;stroke-width:1.0px;stroke-linecap:butt;stroke-linejoin:miter;stroke-opacity:1\"/>\n",
       "<ellipse cx=\"110.0\" cy=\"173.1\" rx=\"16.9\" ry=\"16.9\" class=\"atom-8\" style=\"fill:#FF7F0EA5;fill-rule:evenodd;stroke:#FF7F0EA5;stroke-width:1.0px;stroke-linecap:butt;stroke-linejoin:miter;stroke-opacity:1\"/>\n",
       "<ellipse cx=\"110.0\" cy=\"26.9\" rx=\"16.9\" ry=\"16.9\" class=\"atom-9\" style=\"fill:#1F77B4A5;fill-rule:evenodd;stroke:#1F77B4A5;stroke-width:1.0px;stroke-linecap:butt;stroke-linejoin:miter;stroke-opacity:1\"/>\n",
       "<path class=\"bond-0 atom-0 atom-1\" d=\"M 490.0,100.0 L 405.5,100.0\" style=\"fill:none;fill-rule:evenodd;stroke:#000000;stroke-width:2.0px;stroke-linecap:butt;stroke-linejoin:miter;stroke-opacity:1\"/>\n",
       "<path class=\"bond-1 atom-1 atom-2\" d=\"M 405.5,100.0 L 363.3,173.1\" style=\"fill:none;fill-rule:evenodd;stroke:#000000;stroke-width:2.0px;stroke-linecap:butt;stroke-linejoin:miter;stroke-opacity:1\"/>\n",
       "<path class=\"bond-1 atom-1 atom-2\" d=\"M 390.9,100.0 L 356.0,160.5\" style=\"fill:none;fill-rule:evenodd;stroke:#000000;stroke-width:2.0px;stroke-linecap:butt;stroke-linejoin:miter;stroke-opacity:1\"/>\n",
       "<path class=\"bond-2 atom-2 atom-3\" d=\"M 363.3,173.1 L 278.9,173.1\" style=\"fill:none;fill-rule:evenodd;stroke:#000000;stroke-width:2.0px;stroke-linecap:butt;stroke-linejoin:miter;stroke-opacity:1\"/>\n",
       "<path class=\"bond-3 atom-3 atom-4\" d=\"M 278.9,173.1 L 236.7,100.0\" style=\"fill:none;fill-rule:evenodd;stroke:#000000;stroke-width:2.0px;stroke-linecap:butt;stroke-linejoin:miter;stroke-opacity:1\"/>\n",
       "<path class=\"bond-4 atom-4 atom-5\" d=\"M 236.7,100.0 L 278.9,26.9\" style=\"fill:none;fill-rule:evenodd;stroke:#000000;stroke-width:2.0px;stroke-linecap:butt;stroke-linejoin:miter;stroke-opacity:1\"/>\n",
       "<path class=\"bond-5 atom-5 atom-6\" d=\"M 278.9,26.9 L 363.3,26.9\" style=\"fill:none;fill-rule:evenodd;stroke:#000000;stroke-width:2.0px;stroke-linecap:butt;stroke-linejoin:miter;stroke-opacity:1\"/>\n",
       "<path class=\"bond-6 atom-4 atom-7\" d=\"M 236.7,100.0 L 152.3,100.0\" style=\"fill:none;fill-rule:evenodd;stroke:#000000;stroke-width:2.0px;stroke-linecap:butt;stroke-linejoin:miter;stroke-opacity:1\"/>\n",
       "<path class=\"bond-7 atom-7 atom-8\" d=\"M 148.6,93.7 L 104.6,169.9\" style=\"fill:none;fill-rule:evenodd;stroke:#000000;stroke-width:2.0px;stroke-linecap:butt;stroke-linejoin:miter;stroke-opacity:1\"/>\n",
       "<path class=\"bond-7 atom-7 atom-8\" d=\"M 159.6,100.0 L 115.5,176.3\" style=\"fill:none;fill-rule:evenodd;stroke:#000000;stroke-width:2.0px;stroke-linecap:butt;stroke-linejoin:miter;stroke-opacity:1\"/>\n",
       "<path class=\"bond-8 atom-7 atom-9\" d=\"M 152.3,100.0 L 110.0,26.9\" style=\"fill:none;fill-rule:evenodd;stroke:#000000;stroke-width:2.0px;stroke-linecap:butt;stroke-linejoin:miter;stroke-opacity:1\"/>\n",
       "<path class=\"bond-9 atom-6 atom-1\" d=\"M 363.3,26.9 L 405.5,100.0\" style=\"fill:none;fill-rule:evenodd;stroke:#000000;stroke-width:2.0px;stroke-linecap:butt;stroke-linejoin:miter;stroke-opacity:1\"/>\n",
       "<path d=\"M 365.4,169.5 L 363.3,173.1 L 359.1,173.1\" style=\"fill:none;stroke:#000000;stroke-width:2.0px;stroke-linecap:butt;stroke-linejoin:miter;stroke-opacity:1;\"/>\n",
       "<path d=\"M 283.1,173.1 L 278.9,173.1 L 276.8,169.5\" style=\"fill:none;stroke:#000000;stroke-width:2.0px;stroke-linecap:butt;stroke-linejoin:miter;stroke-opacity:1;\"/>\n",
       "<path d=\"M 276.8,30.5 L 278.9,26.9 L 283.1,26.9\" style=\"fill:none;stroke:#000000;stroke-width:2.0px;stroke-linecap:butt;stroke-linejoin:miter;stroke-opacity:1;\"/>\n",
       "<path d=\"M 359.1,26.9 L 363.3,26.9 L 365.4,30.5\" style=\"fill:none;stroke:#000000;stroke-width:2.0px;stroke-linecap:butt;stroke-linejoin:miter;stroke-opacity:1;\"/>\n",
       "<path d=\"M 156.5,100.0 L 152.3,100.0 L 150.1,96.3\" style=\"fill:none;stroke:#000000;stroke-width:2.0px;stroke-linecap:butt;stroke-linejoin:miter;stroke-opacity:1;\"/>\n",
       "<rect x=\"1\" y=\"5\" width=\"18.0\" height=\"18.0\" fill=\"rgb(31, 119, 179)\"/><text x=\"19.200000000000003\" y=\"20\" font-family=\"Helvetica\" font-size=\"12\" fill=\"black\">-CH3</text><rect x=\"1\" y=\"30\" width=\"18.0\" height=\"18.0\" fill=\"rgb(255, 127, 13)\"/><text x=\"19.200000000000003\" y=\"45\" font-family=\"Helvetica\" font-size=\"12\" fill=\"black\">=CH2</text><rect x=\"1\" y=\"55\" width=\"18.0\" height=\"18.0\" fill=\"rgb(44, 159, 44)\"/><text x=\"19.200000000000003\" y=\"70\" font-family=\"Helvetica\" font-size=\"12\" fill=\"black\">=C&lt;</text><rect x=\"1\" y=\"80\" width=\"18.0\" height=\"18.0\" fill=\"rgb(214, 39, 40)\"/><text x=\"19.200000000000003\" y=\"95\" font-family=\"Helvetica\" font-size=\"12\" fill=\"black\">ring-CH2-</text><rect x=\"1\" y=\"105\" width=\"18.0\" height=\"18.0\" fill=\"rgb(148, 103, 188)\"/><text x=\"19.200000000000003\" y=\"120\" font-family=\"Helvetica\" font-size=\"12\" fill=\"black\">ring&gt;CH-</text><rect x=\"1\" y=\"130\" width=\"18.0\" height=\"18.0\" fill=\"rgb(140, 85, 75)\"/><text x=\"19.200000000000003\" y=\"145\" font-family=\"Helvetica\" font-size=\"12\" fill=\"black\">ring=CH-</text><rect x=\"1\" y=\"155\" width=\"18.0\" height=\"18.0\" fill=\"rgb(227, 119, 193)\"/><text x=\"19.200000000000003\" y=\"170\" font-family=\"Helvetica\" font-size=\"12\" fill=\"black\">ring=C&lt;</text><text x=\"300.0\" y=\"40\" font-family=\"Helvetica\" font-size=\"12\" font-weight=\"bold\" fill=\"black\" text-anchor=\"middle\"/></svg>"
      ],
      "text/plain": [
       "<IPython.core.display.SVG object>"
      ]
     },
     "execution_count": 4,
     "metadata": {},
     "output_type": "execute_result"
    }
   ],
   "source": [
    "SVG(limonene.draw(width=600))"
   ]
  },
  {
   "cell_type": "markdown",
   "metadata": {},
   "source": [
    "The `get_groups` function have the signature:"
   ]
  },
  {
   "cell_type": "code",
   "execution_count": 5,
   "metadata": {},
   "outputs": [],
   "source": [
    "get_groups(\n",
    "    model=psrk,\n",
    "    identifier=\"nicotine\",\n",
    "    identifier_type=\"name\"\n",
    ");"
   ]
  },
  {
   "cell_type": "markdown",
   "metadata": {},
   "source": [
    "As in the `Groups` class you can use \"name\", \"smiles\" or \"mol\" as identifier\n",
    "type. This can be useful for whatever you are doing and skip the overhead of\n",
    "setting models that you don't want. The `Groups` class is pretended to be used\n",
    "when you think: \"I want all of this molecule\". The fragmentation_model \n",
    "parameters represents an ugropy fragmentation model."
   ]
  },
  {
   "cell_type": "code",
   "execution_count": 6,
   "metadata": {},
   "outputs": [],
   "source": [
    "from ugropy import FragmentationModel"
   ]
  },
  {
   "cell_type": "markdown",
   "metadata": {},
   "source": [
    "#### Joback\n",
    "\n",
    "For context, check the Joback's article:\n",
    "https://doi.org/10.1080/00986448708960487\n",
    "\n",
    "The `JobackProperties` object is instantiated by the Group object, as we saw in\n",
    "the previous tutorial. However, a `JobackProperties` object can also be\n",
    "instantiated individually:"
   ]
  },
  {
   "cell_type": "code",
   "execution_count": 7,
   "metadata": {},
   "outputs": [
    {
     "data": {
      "text/plain": [
       "34.800000000000004"
      ]
     },
     "execution_count": 7,
     "metadata": {},
     "output_type": "execute_result"
    }
   ],
   "source": [
    "from ugropy.properties import JobackProperties\n",
    "\n",
    "joback_carvone = JobackProperties(\"carvone\")\n",
    "\n",
    "joback_carvone.g_formation"
   ]
  },
  {
   "cell_type": "markdown",
   "metadata": {},
   "source": [
    "As with a `Groups` object, the signature of a `Joback` object is as follows\n",
    "similarly, in the `Groups` class, you can use \"name,\" \"smiles,\" or \"mol\" as the\n",
    "identifier type with the addition that you can provide the Joback's functional\n",
    "groups as a dictionary directly:"
   ]
  },
  {
   "cell_type": "code",
   "execution_count": 8,
   "metadata": {},
   "outputs": [],
   "source": [
    "carvone  = JobackProperties(\n",
    "    identifier=\"carvone\",\n",
    "    identifier_type=\"name\",\n",
    "    normal_boiling_point=None\n",
    ")"
   ]
  },
  {
   "cell_type": "code",
   "execution_count": 9,
   "metadata": {},
   "outputs": [
    {
     "name": "stdout",
     "output_type": "stream",
     "text": [
      "31.070992245923176\n",
      "31.070992245923176\n"
     ]
    }
   ],
   "source": [
    "hex_g = JobackProperties(identifier={\"-CH3\": 2, \"-CH2-\": 4}, identifier_type=\"groups\")\n",
    "\n",
    "hex_n = JobackProperties(identifier=\"hexane\", identifier_type=\"name\")\n",
    "\n",
    "print(hex_g.critical_pressure)\n",
    "print(hex_n.critical_pressure)"
   ]
  },
  {
   "cell_type": "markdown",
   "metadata": {},
   "source": [
    "The normal_boiling_temperature parameter, if provided, is used in the Joback\n",
    "properties calculations instead of the Joback-estimated normal boiling\n",
    "temperature. Let's examine an example from the original Joback's article:"
   ]
  },
  {
   "cell_type": "code",
   "execution_count": 10,
   "metadata": {},
   "outputs": [
    {
     "name": "stdout",
     "output_type": "stream",
     "text": [
      "Estimated normal boiling point: 443.4 K\n",
      "Critical temperature: 675.1671746814928 K\n"
     ]
    }
   ],
   "source": [
    "mol = JobackProperties(\"p-dichlorobenzene\")\n",
    "\n",
    "print(f\"Estimated normal boiling point: {mol.normal_boiling_point} K\")\n",
    "print(f\"Critical temperature: {mol.critical_temperature} K\")"
   ]
  },
  {
   "cell_type": "markdown",
   "metadata": {},
   "source": [
    "The critical temperature necessitates the estimation of the normal boiling\n",
    "point. Joback recommends that if the experimental value of the normal boiling\n",
    "point is known, it should be used instead of the estimated value."
   ]
  },
  {
   "cell_type": "code",
   "execution_count": 11,
   "metadata": {},
   "outputs": [
    {
     "name": "stdout",
     "output_type": "stream",
     "text": [
      "Experimental normal boiling point: 447.3 K\n",
      "Estimated normal boiling point: 443.4 K\n",
      "Critical temperature: 681.1057222260526 K\n"
     ]
    }
   ],
   "source": [
    "mol = JobackProperties(\"p-dichlorobenzene\", normal_boiling_point=447.3)\n",
    "\n",
    "print(f\"Experimental normal boiling point: {mol.exp_nbt} K\")\n",
    "print(f\"Estimated normal boiling point: {mol.normal_boiling_point} K\")\n",
    "print(f\"Critical temperature: {mol.critical_temperature} K\")"
   ]
  },
  {
   "cell_type": "markdown",
   "metadata": {},
   "source": [
    "The experimental value of the critical temperature for p-dichlorobenzene is 685\n",
    "K. In this example, the error is not significant, but Joback warns that errors\n",
    "could be more significant in other cases.\n",
    "\n",
    "Refer to the full documentation of the Joback object for information on units\n",
    "and further explanation."
   ]
  },
  {
   "cell_type": "code",
   "execution_count": 12,
   "metadata": {},
   "outputs": [
    {
     "name": "stdout",
     "output_type": "stream",
     "text": [
      "\u001b[0;31mInit signature:\u001b[0m\n",
      "\u001b[0mJobackProperties\u001b[0m\u001b[0;34m(\u001b[0m\u001b[0;34m\u001b[0m\n",
      "\u001b[0;34m\u001b[0m    \u001b[0midentifier\u001b[0m\u001b[0;34m:\u001b[0m \u001b[0mstr\u001b[0m\u001b[0;34m,\u001b[0m\u001b[0;34m\u001b[0m\n",
      "\u001b[0;34m\u001b[0m    \u001b[0midentifier_type\u001b[0m\u001b[0;34m:\u001b[0m \u001b[0mstr\u001b[0m \u001b[0;34m=\u001b[0m \u001b[0;34m'name'\u001b[0m\u001b[0;34m,\u001b[0m\u001b[0;34m\u001b[0m\n",
      "\u001b[0;34m\u001b[0m    \u001b[0mnormal_boiling_point\u001b[0m\u001b[0;34m:\u001b[0m \u001b[0mfloat\u001b[0m \u001b[0;34m=\u001b[0m \u001b[0;32mNone\u001b[0m\u001b[0;34m,\u001b[0m\u001b[0;34m\u001b[0m\n",
      "\u001b[0;34m\u001b[0m\u001b[0;34m)\u001b[0m \u001b[0;34m->\u001b[0m \u001b[0;32mNone\u001b[0m\u001b[0;34m\u001b[0m\u001b[0;34m\u001b[0m\u001b[0m\n",
      "\u001b[0;31mDocstring:\u001b[0m     \n",
      "Joback [1] group contribution properties estimator.\n",
      "\n",
      "Parameters\n",
      "----------\n",
      "identifier : str or rdkit.Chem.rdchem.Mol\n",
      "    Identifier of a molecule (name, SMILES, groups, or Chem.rdchem.Mol).\n",
      "    Example: you can use hexane, CCCCCC, {\"-CH3\": 2, \"-CH2-\": 4} for name,\n",
      "    SMILES and groups respectively.\n",
      "identifier_type : str, optional\n",
      "    Use 'name' to search a molecule by name, 'smiles' to provide the\n",
      "    molecule SMILES representation, 'groups' to provide Joback groups or\n",
      "    'mol' to provide a rdkit.Chem.rdchem.Mol object, by default \"name\".\n",
      "normal_boiling_point : float, optional\n",
      "    If provided, will be used to estimate critical temperature, acentric\n",
      "    factor, and vapor pressure instead of the estimated normal boiling\n",
      "    point, by default None.\n",
      "\n",
      "Attributes\n",
      "----------\n",
      "subgroups : dict\n",
      "    Joback functional groups of the molecule.\n",
      "exp_nbt : float\n",
      "    User provided experimental normal boiling point [K].\n",
      "critical_temperature : float\n",
      "    Joback estimated critical temperature [K].\n",
      "critical_pressure : float\n",
      "    Joback estimated critical pressure [bar].\n",
      "critical_volume : float\n",
      "    Joback estimated critical volume [cm³/mol].\n",
      "normal_boiling_point : float\n",
      "    Joback estimated normal boiling point [K].\n",
      "fusion_temperature : float\n",
      "    Joback estimated fusion temperature [K].\n",
      "h_formation : float\n",
      "    Joback estimated enthalpy of formation ideal gas at 298 K [kJ/mol].\n",
      "g_formation : float\n",
      "    Joback estimated Gibbs energy of formation ideal gas at 298 K [K].\n",
      "heat_capacity_ideal_gas_params : dict\n",
      "    Joback estimated Reid's ideal gas heat capacity equation parameters\n",
      "    [J/mol/K].\n",
      "h_fusion : float\n",
      "    Joback estimated fusion enthalpy [kJ/mol].\n",
      "h_vaporization : float\n",
      "    Joback estimated vaporization enthalpy at the normal boiling point\n",
      "    [kJ/mol].\n",
      "sum_na : float\n",
      "    Joback n_A contribution to liquid viscosity [N/s/m²].\n",
      "sum_nb : float\n",
      "    Joback n_B contribution to liquid viscosity [N/s/m²].\n",
      "molecular_weight : float\n",
      "    Molecular weight from Joback's subgroups [g/mol].\n",
      "acentric_factor : float\n",
      "    Acentric factor from Lee and Kesler's equation [2].\n",
      "vapor_pressure_params : dict\n",
      "    Vapor pressure G and k parameters for the Riedel-Plank-Miller [2]\n",
      "    equation [bar].\n",
      "\u001b[0;31mFile:\u001b[0m           ~/code/ugropy/ugropy/properties/joback_properties.py\n",
      "\u001b[0;31mType:\u001b[0m           type\n",
      "\u001b[0;31mSubclasses:\u001b[0m     "
     ]
    }
   ],
   "source": [
    "JobackProperties?"
   ]
  }
 ],
 "metadata": {
  "kernelspec": {
   "display_name": "ugropy",
   "language": "python",
   "name": "python3"
  },
  "language_info": {
   "codemirror_mode": {
    "name": "ipython",
    "version": 3
   },
   "file_extension": ".py",
   "mimetype": "text/x-python",
   "name": "python",
   "nbconvert_exporter": "python",
   "pygments_lexer": "ipython3",
   "version": "3.10.12"
  }
 },
 "nbformat": 4,
 "nbformat_minor": 2
}
